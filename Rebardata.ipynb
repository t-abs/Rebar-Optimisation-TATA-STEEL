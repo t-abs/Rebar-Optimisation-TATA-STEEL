{
 "cells": [
  {
   "cell_type": "code",
   "execution_count": 1,
   "id": "eee15c30",
   "metadata": {},
   "outputs": [
    {
     "name": "stderr",
     "output_type": "stream",
     "text": [
      "C:\\Users\\KIIT\\.ipython\\lib\\site-packages\\pandas\\core\\arrays\\masked.py:60: UserWarning: Pandas requires version '1.3.6' or newer of 'bottleneck' (version '1.3.5' currently installed).\n",
      "  from pandas.core import (\n"
     ]
    }
   ],
   "source": [
    "import numpy as np\n",
    "\n",
    "import pandas as pd\n",
    "\n",
    "import matplotlib.pyplot as plt\n",
    "\n",
    "from scipy.optimize import linprog\n",
    "\n"
   ]
  },
  {
   "cell_type": "code",
   "execution_count": 2,
   "id": "2dee1ff4",
   "metadata": {},
   "outputs": [],
   "source": [
    "data = {\n",
    "    'w': [1.4, 0.7, 3.41, 3.98, 0.765, 1.13, 11.39, 11.78, 6.18],\n",
    "    'd': [96, 20340, 1278, 852, 4970, 3976, 12, 12, 2520]\n",
    "}\n",
    "df = pd.DataFrame(data)\n",
    "\n",
    "# Total width\n",
    "W = 12.0\n"
   ]
  },
  {
   "cell_type": "code",
   "execution_count": 3,
   "id": "25907d78",
   "metadata": {},
   "outputs": [],
   "source": [
    "# Total width\n",
    "\n",
    "W = 12.0\n",
    "\n"
   ]
  },
  {
   "cell_type": "code",
   "execution_count": 4,
   "id": "55f39bff",
   "metadata": {},
   "outputs": [],
   "source": [
    "# Width and amount associated with each demand\n",
    "\n",
    "w = df.w.values\n",
    "\n",
    "d = df.d.values\n",
    "\n"
   ]
  },
  {
   "cell_type": "code",
   "execution_count": 5,
   "id": "1d272fce",
   "metadata": {},
   "outputs": [],
   "source": [
    " \n",
    "\n",
    "df['w'] = pd.to_numeric(df['w'], errors='coerce')\n",
    "\n",
    "w = df.w.values.astype(float)\n",
    "\n"
   ]
  },
  {
   "cell_type": "code",
   "execution_count": 6,
   "id": "831c2673",
   "metadata": {},
   "outputs": [],
   "source": [
    "df['d'] = pd.to_numeric(df['d'], errors='coerce')\n",
    "\n",
    "d = df.d.values.astype(float)\n",
    "\n"
   ]
  },
  {
   "cell_type": "code",
   "execution_count": 7,
   "id": "f91d3498",
   "metadata": {},
   "outputs": [],
   "source": [
    "A = np.eye(df.shape[0])*(W//w)\n",
    "\n",
    "c = np.ones_like(w)\n",
    "\n"
   ]
  },
  {
   "cell_type": "code",
   "execution_count": 8,
   "id": "dd47a703",
   "metadata": {},
   "outputs": [],
   "source": [
    "A_ub = np.atleast_2d(w)"
   ]
  },
  {
   "cell_type": "code",
   "execution_count": 9,
   "id": "c90f4b7c",
   "metadata": {},
   "outputs": [],
   "source": [
    "b_ub = np.atleast_1d(W)"
   ]
  },
  {
   "cell_type": "code",
   "execution_count": 10,
   "id": "9ff65910",
   "metadata": {},
   "outputs": [],
   "source": [
    "sol = linprog(c, A_ub=-A, b_ub=-d, bounds=(0,None), integrality = 0)"
   ]
  },
  {
   "cell_type": "code",
   "execution_count": 11,
   "id": "9501ed96",
   "metadata": {},
   "outputs": [],
   "source": [
    "sol_dual = linprog(-d, A_ub=A.T, b_ub=c, bounds=(0,None))\n",
    "\n"
   ]
  },
  {
   "cell_type": "code",
   "execution_count": 12,
   "id": "58920780",
   "metadata": {},
   "outputs": [],
   "source": [
    "duals = -sol.ineqlin.marginals\n",
    "\n"
   ]
  },
  {
   "cell_type": "code",
   "execution_count": 13,
   "id": "29127b03",
   "metadata": {},
   "outputs": [],
   "source": [
    "def solve_knapsack(W, w, duals):\n",
    "\n",
    "    return linprog(-duals, A_ub=np.atleast_2d(w), b_ub=np.atleast_1d(W), bounds=(0, np.inf), integrality=1)\n",
    "\n"
   ]
  },
  {
   "cell_type": "code",
   "execution_count": 14,
   "id": "6a8632e7",
   "metadata": {},
   "outputs": [],
   "source": [
    "price_sol = solve_knapsack(W, w, duals)\n",
    "\n"
   ]
  },
  {
   "cell_type": "code",
   "execution_count": 15,
   "id": "9a1eada5",
   "metadata": {},
   "outputs": [
    {
     "name": "stdout",
     "output_type": "stream",
     "text": [
      "Iteration: 0; Reduced cost: -0.533\n",
      "Iteration: 1; Reduced cost: -0.509\n",
      "Iteration: 2; Reduced cost: -0.241\n",
      "Iteration: 3; Reduced cost: -0.235\n",
      "Iteration: 4; Reduced cost: -0.039\n",
      "Iteration: 5; Reduced cost: -0.055\n",
      "Iteration: 6; Reduced cost: -0.055\n",
      "Iteration: 7; Reduced cost: -0.009\n",
      "Iteration: 8; Reduced cost: -0.007\n",
      "Iteration: 9; Reduced cost: -0.007\n",
      "Iteration: 10; Reduced cost: -0.002\n",
      "Iteration: 11; Reduced cost: -0.003\n"
     ]
    }
   ],
   "source": [
    "for _ in range(1000):\n",
    "\n",
    "    duals = -sol.ineqlin.marginals\n",
    "\n",
    "    price_sol = solve_knapsack(W, w, duals)\n",
    "\n",
    "    y = price_sol.x\n",
    "\n",
    "    if 1 + price_sol.fun < -1e-4:\n",
    "\n",
    "        print(f\"Iteration: {_}; Reduced cost: {(1 + price_sol.fun):.3f}\")\n",
    "\n",
    "        A = np.hstack((A, y.reshape((-1, 1))))\n",
    "\n",
    "        c = np.append(c, 1)\n",
    "\n",
    "        sol = linprog(c, A_ub=-A, b_ub=-d, bounds=(0, None))\n",
    "\n",
    "    else:\n",
    "\n",
    "        break\n",
    "\n",
    " "
   ]
  },
  {
   "cell_type": "code",
   "execution_count": 16,
   "id": "828d9566",
   "metadata": {},
   "outputs": [
    {
     "data": {
      "text/plain": [
       "(array([   0,    0,    0,    0,    0,    0,   12,   12,    0,    0,   10,\n",
       "           0, 1628,   57,   15,    0,  852,    0, 1249,    0,   31]),\n",
       " array([[ 8.,  0.,  0.,  0.,  0.,  0.,  0.,  0.,  0.],\n",
       "        [ 0., 17.,  0.,  0.,  0.,  0.,  0.,  0.,  0.],\n",
       "        [ 0.,  0.,  3.,  0.,  0.,  0.,  0.,  0.,  0.],\n",
       "        [ 0.,  0.,  0.,  3.,  0.,  0.,  0.,  0.,  0.],\n",
       "        [ 0.,  0.,  0.,  0., 15.,  0.,  0.,  0.,  0.],\n",
       "        [ 0.,  0.,  0.,  0.,  0., 10.,  0.,  0.,  0.],\n",
       "        [ 0.,  0.,  0.,  0.,  0.,  0.,  1.,  0.,  0.],\n",
       "        [ 0.,  0.,  0.,  0.,  0.,  0.,  0.,  1.,  0.],\n",
       "        [ 0.,  0.,  0.,  0.,  0.,  0.,  0.,  0.,  1.],\n",
       "        [ 0.,  0.,  1.,  0.,  0.,  2.,  0.,  0.,  1.],\n",
       "        [ 2.,  1.,  0.,  0.,  3.,  0.,  0.,  0.,  1.],\n",
       "        [ 0.,  0.,  0.,  0.,  3.,  3.,  0.,  0.,  1.],\n",
       "        [ 0.,  5.,  0.,  0.,  3.,  0.,  0.,  0.,  1.],\n",
       "        [ 0.,  1.,  0.,  0.,  0., 10.,  0.,  0.,  0.],\n",
       "        [ 1.,  1.,  2.,  0.,  4.,  0.,  0.,  0.,  0.],\n",
       "        [ 0.,  3.,  2.,  0.,  4.,  0.,  0.,  0.,  0.],\n",
       "        [ 0.,  1.,  0.,  1.,  0.,  1.,  0.,  0.,  1.],\n",
       "        [ 4.,  1.,  1.,  0.,  0.,  2.,  0.,  0.,  0.],\n",
       "        [ 0.,  9.,  1.,  0.,  0.,  2.,  0.,  0.,  0.],\n",
       "        [ 1.,  1.,  2.,  0.,  1.,  2.,  0.,  0.,  0.],\n",
       "        [ 2.,  1.,  0.,  0.,  0.,  2.,  0.,  0.,  1.]]))"
      ]
     },
     "execution_count": 16,
     "metadata": {},
     "output_type": "execute_result"
    }
   ],
   "source": [
    "np.ceil(sol.x).astype(int), A.T\n",
    "\n"
   ]
  },
  {
   "cell_type": "code",
   "execution_count": 17,
   "id": "b2a3497d",
   "metadata": {},
   "outputs": [
    {
     "data": {
      "text/plain": [
       "array([[ 8.,  0.,  0.,  0.,  0.,  0.,  0.,  0.,  0.],\n",
       "       [ 0., 17.,  0.,  0.,  0.,  0.,  0.,  0.,  0.],\n",
       "       [ 0.,  0.,  3.,  0.,  0.,  0.,  0.,  0.,  0.],\n",
       "       [ 0.,  0.,  0.,  3.,  0.,  0.,  0.,  0.,  0.],\n",
       "       [ 0.,  0.,  0.,  0., 15.,  0.,  0.,  0.,  0.],\n",
       "       [ 0.,  0.,  0.,  0.,  0., 10.,  0.,  0.,  0.],\n",
       "       [ 0.,  0.,  0.,  0.,  0.,  0.,  1.,  0.,  0.],\n",
       "       [ 0.,  0.,  0.,  0.,  0.,  0.,  0.,  1.,  0.],\n",
       "       [ 0.,  0.,  0.,  0.,  0.,  0.,  0.,  0.,  1.],\n",
       "       [ 0.,  0.,  1.,  0.,  0.,  2.,  0.,  0.,  1.],\n",
       "       [ 2.,  1.,  0.,  0.,  3.,  0.,  0.,  0.,  1.],\n",
       "       [ 0.,  0.,  0.,  0.,  3.,  3.,  0.,  0.,  1.],\n",
       "       [ 0.,  5.,  0.,  0.,  3.,  0.,  0.,  0.,  1.],\n",
       "       [ 0.,  1.,  0.,  0.,  0., 10.,  0.,  0.,  0.],\n",
       "       [ 1.,  1.,  2.,  0.,  4.,  0.,  0.,  0.,  0.],\n",
       "       [ 0.,  3.,  2.,  0.,  4.,  0.,  0.,  0.,  0.],\n",
       "       [ 0.,  1.,  0.,  1.,  0.,  1.,  0.,  0.,  1.],\n",
       "       [ 4.,  1.,  1.,  0.,  0.,  2.,  0.,  0.,  0.],\n",
       "       [ 0.,  9.,  1.,  0.,  0.,  2.,  0.,  0.,  0.],\n",
       "       [ 1.,  1.,  2.,  0.,  1.,  2.,  0.,  0.,  0.],\n",
       "       [ 2.,  1.,  0.,  0.,  0.,  2.,  0.,  0.,  1.]])"
      ]
     },
     "execution_count": 17,
     "metadata": {},
     "output_type": "execute_result"
    }
   ],
   "source": [
    "A.T"
   ]
  },
  {
   "cell_type": "code",
   "execution_count": null,
   "id": "08720afe",
   "metadata": {},
   "outputs": [],
   "source": []
  },
  {
   "cell_type": "code",
   "execution_count": null,
   "id": "9dc480fe",
   "metadata": {},
   "outputs": [],
   "source": []
  }
 ],
 "metadata": {
  "kernelspec": {
   "display_name": "Python 3 (ipykernel)",
   "language": "python",
   "name": "python3"
  },
  "language_info": {
   "codemirror_mode": {
    "name": "ipython",
    "version": 3
   },
   "file_extension": ".py",
   "mimetype": "text/x-python",
   "name": "python",
   "nbconvert_exporter": "python",
   "pygments_lexer": "ipython3",
   "version": "3.10.9"
  }
 },
 "nbformat": 4,
 "nbformat_minor": 5
}
